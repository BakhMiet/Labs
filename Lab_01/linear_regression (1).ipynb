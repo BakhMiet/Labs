{
 "cells": [
  {
   "cell_type": "code",
   "execution_count": 4,
   "metadata": {
    "colab": {
     "base_uri": "https://localhost:8080/",
     "height": 88
    },
    "colab_type": "code",
    "executionInfo": {
     "elapsed": 2905,
     "status": "ok",
     "timestamp": 1585832128650,
     "user": {
      "displayName": "Вера Кузьмина",
      "photoUrl": "https://lh3.googleusercontent.com/a-/AOh14Gid6eDBA15Yx5zdUcqjB0_OwvQy0PDdRRwzU9JB=s64",
      "userId": "11526768068054229551"
     },
     "user_tz": -180
    },
    "id": "MZg7ISzf87n-",
    "outputId": "152760c3-682e-4788-f8ef-3a73d619cdbc"
   },
   "outputs": [
    {
     "name": "stdout",
     "output_type": "stream",
     "text": [
      "WARNING:tensorflow:From c:\\python\\python37\\lib\\site-packages\\tensorflow\\python\\compat\\v2_compat.py:96: disable_resource_variables (from tensorflow.python.ops.variable_scope) is deprecated and will be removed in a future version.\n",
      "Instructions for updating:\n",
      "non-resource variables are not supported in the long term\n"
     ]
    }
   ],
   "source": [
    "import tensorflow.compat.v1 as tf\n",
    "tf.disable_v2_behavior()\n",
    "import numpy\n",
    "import matplotlib.pyplot as plt\n",
    "rng = numpy.random"
   ]
  },
  {
   "cell_type": "code",
   "execution_count": 5,
   "metadata": {
    "colab": {},
    "colab_type": "code",
    "id": "-BTlUXbo87oE"
   },
   "outputs": [],
   "source": [
    "# Обучающие данные\n",
    "train_X = numpy.asarray([3.3,4.4,5.5,6.71,6.93,4.168,9.779,6.182,7.59,2.167, 7.042,10.791,5.313,7.997,5.654,9.27,3.1])\n",
    "train_Y = numpy.asarray([1.7,2.76,2.09,3.19,1.694,1.573,3.366,2.596,2.53,1.221,2.827,3.465,1.65,2.904,2.42,2.94,1.3])\n",
    "n_samples = train_X.shape[0]"
   ]
  },
  {
   "cell_type": "markdown",
   "metadata": {
    "colab_type": "text",
    "id": "aUa5rjAS87oG"
   },
   "source": [
    "**ВАШ КОД ЗДЕСЬ:**"
   ]
  },
  {
   "cell_type": "code",
   "execution_count": null,
   "metadata": {},
   "outputs": [],
   "source": []
  },
  {
   "cell_type": "code",
   "execution_count": 41,
   "metadata": {
    "colab": {},
    "colab_type": "code",
    "id": "JgnO0idm87oJ"
   },
   "outputs": [],
   "source": [
    "# Параметры обучения\n",
    "learning_rate = 0.01\n",
    "training_epochs = 3000\n",
    "display_step = 50"
   ]
  },
  {
   "cell_type": "code",
   "execution_count": 42,
   "metadata": {
    "colab": {},
    "colab_type": "code",
    "id": "bbPgipuY87oL"
   },
   "outputs": [],
   "source": [
    "# tf Graph Input\n",
    "X = tf.placeholder(\"float\")\n",
    "Y = tf.placeholder(\"float\")\n",
    "\n",
    "# Set model weights\n",
    "W = tf.Variable(rng.randn(), name=\"weight\")\n",
    "b = tf.Variable(rng.randn(), name=\"bias\")"
   ]
  },
  {
   "cell_type": "code",
   "execution_count": 43,
   "metadata": {
    "colab": {},
    "colab_type": "code",
    "id": "6KXfkcND87oN"
   },
   "outputs": [],
   "source": [
    "# Construct a linear model\n",
    "pred = tf.add(tf.multiply(X, W), b)"
   ]
  },
  {
   "cell_type": "code",
   "execution_count": 44,
   "metadata": {
    "colab": {},
    "colab_type": "code",
    "id": "OaWzisRX87oR"
   },
   "outputs": [],
   "source": [
    "# Mean squared error\n",
    "cost = tf.reduce_sum(tf.pow(pred-Y, 2))/(2*n_samples)\n",
    "# Gradient descent\n",
    "optimizer = tf.train.GradientDescentOptimizer(learning_rate).minimize(cost)"
   ]
  },
  {
   "cell_type": "code",
   "execution_count": 45,
   "metadata": {
    "colab": {},
    "colab_type": "code",
    "id": "0q5S3j2s87oU"
   },
   "outputs": [],
   "source": [
    "# Initializing the variables\n",
    "init = tf.global_variables_initializer()"
   ]
  },
  {
   "cell_type": "code",
   "execution_count": 46,
   "metadata": {
    "colab": {
     "base_uri": "https://localhost:8080/",
     "height": 635
    },
    "colab_type": "code",
    "executionInfo": {
     "elapsed": 14041,
     "status": "ok",
     "timestamp": 1585832683559,
     "user": {
      "displayName": "Вера Кузьмина",
      "photoUrl": "https://lh3.googleusercontent.com/a-/AOh14Gid6eDBA15Yx5zdUcqjB0_OwvQy0PDdRRwzU9JB=s64",
      "userId": "11526768068054229551"
     },
     "user_tz": -180
    },
    "id": "fYMGsHQr87oW",
    "outputId": "36f7fa8e-3475-4cd1-dc5c-475bba2f2ef3"
   },
   "outputs": [
    {
     "name": "stdout",
     "output_type": "stream",
     "text": [
      "Epoch: 0050 cost= 0.936334908 W= 0.76752084 b= -2.9244645\n",
      "Epoch: 0100 cost= 0.837114275 W= 0.73671764 b= -2.7028692\n",
      "Epoch: 0150 cost= 0.749343276 W= 0.7077453 b= -2.4944432\n",
      "Epoch: 0200 cost= 0.671707928 W= 0.680497 b= -2.2984214\n",
      "Epoch: 0250 cost= 0.603035569 W= 0.6548697 b= -2.11406\n",
      "Epoch: 0300 cost= 0.542289078 W= 0.63076556 b= -1.9406574\n",
      "Epoch: 0350 cost= 0.488556594 W= 0.6080956 b= -1.7775719\n",
      "Epoch: 0400 cost= 0.441026330 W= 0.58677363 b= -1.6241822\n",
      "Epoch: 0450 cost= 0.398984045 W= 0.56672 b= -1.4799175\n",
      "Epoch: 0500 cost= 0.361795664 W= 0.5478589 b= -1.3442328\n",
      "Epoch: 0550 cost= 0.328900486 W= 0.5301195 b= -1.2166167\n",
      "Epoch: 0600 cost= 0.299804062 W= 0.51343554 b= -1.0965939\n",
      "Epoch: 0650 cost= 0.274066776 W= 0.4977436 b= -0.98370755\n",
      "Epoch: 0700 cost= 0.251301050 W= 0.48298505 b= -0.8775349\n",
      "Epoch: 0750 cost= 0.231164098 W= 0.46910405 b= -0.77767676\n",
      "Epoch: 0800 cost= 0.213352233 W= 0.4560488 b= -0.6837575\n",
      "Epoch: 0850 cost= 0.197597235 W= 0.4437699 b= -0.5954243\n",
      "Epoch: 0900 cost= 0.183661729 W= 0.43222144 b= -0.5123455\n",
      "Epoch: 0950 cost= 0.171335295 W= 0.4213597 b= -0.43420663\n",
      "Epoch: 1000 cost= 0.160432458 W= 0.41114393 b= -0.36071533\n",
      "Epoch: 1050 cost= 0.150788754 W= 0.40153578 b= -0.2915947\n",
      "Epoch: 1100 cost= 0.142258883 W= 0.39249906 b= -0.22658531\n",
      "Epoch: 1150 cost= 0.134714246 W= 0.3839998 b= -0.16544244\n",
      "Epoch: 1200 cost= 0.128041014 W= 0.37600604 b= -0.10793562\n",
      "Epoch: 1250 cost= 0.122138657 W= 0.3684877 b= -0.05384924\n",
      "Epoch: 1300 cost= 0.116918102 W= 0.36141646 b= -0.0029795293\n",
      "Epoch: 1350 cost= 0.112300664 W= 0.35476583 b= 0.044864703\n",
      "Epoch: 1400 cost= 0.108216710 W= 0.34851065 b= 0.08986335\n",
      "Epoch: 1450 cost= 0.104604587 W= 0.34262767 b= 0.13218577\n",
      "Epoch: 1500 cost= 0.101409845 W= 0.33709455 b= 0.17199104\n",
      "Epoch: 1550 cost= 0.098584279 W= 0.33189046 b= 0.20942907\n",
      "Epoch: 1600 cost= 0.096085243 W= 0.3269958 b= 0.24464047\n",
      "Epoch: 1650 cost= 0.093875065 W= 0.3223923 b= 0.27775747\n",
      "Epoch: 1700 cost= 0.091920286 W= 0.31806263 b= 0.30890533\n",
      "Epoch: 1750 cost= 0.090191543 W= 0.3139905 b= 0.33819976\n",
      "Epoch: 1800 cost= 0.088662654 W= 0.31016046 b= 0.3657525\n",
      "Epoch: 1850 cost= 0.087310493 W= 0.30655828 b= 0.3916667\n",
      "Epoch: 1900 cost= 0.086114720 W= 0.30317032 b= 0.41603932\n",
      "Epoch: 1950 cost= 0.085057251 W= 0.29998386 b= 0.43896225\n",
      "Epoch: 2000 cost= 0.084122069 W= 0.29698694 b= 0.46052226\n",
      "Epoch: 2050 cost= 0.083295040 W= 0.2941681 b= 0.4808004\n",
      "Epoch: 2100 cost= 0.082563743 W= 0.29151705 b= 0.49987173\n",
      "Epoch: 2150 cost= 0.081917070 W= 0.28902376 b= 0.51780885\n",
      "Epoch: 2200 cost= 0.081345230 W= 0.2866787 b= 0.53467894\n",
      "Epoch: 2250 cost= 0.080839552 W= 0.28447294 b= 0.5505465\n",
      "Epoch: 2300 cost= 0.080392428 W= 0.28239843 b= 0.5654706\n",
      "Epoch: 2350 cost= 0.079997085 W= 0.2804473 b= 0.579507\n",
      "Epoch: 2400 cost= 0.079647511 W= 0.27861226 b= 0.5927085\n",
      "Epoch: 2450 cost= 0.079338424 W= 0.27688605 b= 0.60512644\n",
      "Epoch: 2500 cost= 0.079065204 W= 0.27526286 b= 0.6168036\n",
      "Epoch: 2550 cost= 0.078823663 W= 0.2737364 b= 0.62778527\n",
      "Epoch: 2600 cost= 0.078610145 W= 0.27230063 b= 0.63811356\n",
      "Epoch: 2650 cost= 0.078421377 W= 0.27095023 b= 0.64782846\n",
      "Epoch: 2700 cost= 0.078254476 W= 0.26968008 b= 0.656966\n",
      "Epoch: 2750 cost= 0.078106955 W= 0.26848537 b= 0.66556\n",
      "Epoch: 2800 cost= 0.077976555 W= 0.26736194 b= 0.67364246\n",
      "Epoch: 2850 cost= 0.077861309 W= 0.2663052 b= 0.6812443\n",
      "Epoch: 2900 cost= 0.077759452 W= 0.26531136 b= 0.68839425\n",
      "Epoch: 2950 cost= 0.077669427 W= 0.26437646 b= 0.6951191\n",
      "Epoch: 3000 cost= 0.077589869 W= 0.26349744 b= 0.7014435\n",
      "Optimization Finished!\n",
      "Training cost= 0.07758987 W= 0.26349744 b= 0.7014435 \n",
      "\n"
     ]
    }
   ],
   "source": [
    "# Launch the graph\n",
    "# Using InteractiveSession (more convenient while using Notebooks)\n",
    "sess = tf.InteractiveSession()\n",
    "sess.run(init)\n",
    "\n",
    "# Fit all training data\n",
    "for epoch in range(training_epochs):\n",
    "    for (x, y) in zip(train_X, train_Y):\n",
    "        sess.run(optimizer, feed_dict={X: x, Y: y})\n",
    "\n",
    "    #Display logs per epoch step\n",
    "    if (epoch+1) % display_step == 0:\n",
    "        c = sess.run(cost, feed_dict={X: train_X, Y:train_Y})\n",
    "        print(\"Epoch:\", '%04d' % (epoch+1), \"cost=\", \"{:.9f}\".format(c), \"W=\", sess.run(W), \"b=\", sess.run(b))\n",
    "\n",
    "print(\"Optimization Finished!\")\n",
    "training_cost = sess.run(cost, feed_dict={X: train_X, Y: train_Y})\n",
    "print(\"Training cost=\", training_cost, \"W=\", sess.run(W), \"b=\", sess.run(b), '\\n')"
   ]
  },
  {
   "cell_type": "markdown",
   "metadata": {
    "colab_type": "text",
    "id": "KKI0y_EOA7IU"
   },
   "source": [
    "**ВАШ КОД ЗДЕСЬ:**"
   ]
  },
  {
   "cell_type": "code",
   "execution_count": null,
   "metadata": {},
   "outputs": [],
   "source": []
  }
 ],
 "metadata": {
  "colab": {
   "collapsed_sections": [],
   "name": "linear_regression.ipynb",
   "provenance": []
  },
  "kernelspec": {
   "display_name": "Python 3",
   "language": "python",
   "name": "python3"
  },
  "language_info": {
   "codemirror_mode": {
    "name": "ipython",
    "version": 3
   },
   "file_extension": ".py",
   "mimetype": "text/x-python",
   "name": "python",
   "nbconvert_exporter": "python",
   "pygments_lexer": "ipython3",
   "version": "3.7.1"
  }
 },
 "nbformat": 4,
 "nbformat_minor": 1
}
